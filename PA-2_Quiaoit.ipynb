{
 "cells": [
  {
   "cell_type": "code",
   "execution_count": 5,
   "id": "c0c1b8e2-4504-43af-94aa-1381a9eb595e",
   "metadata": {},
   "outputs": [
    {
     "name": "stdout",
     "output_type": "stream",
     "text": [
      "10X10 ARRAY OF SQUARES:\n",
      " [[    1     4     9    16    25    36    49    64    81   100]\n",
      " [  121   144   169   196   225   256   289   324   361   400]\n",
      " [  441   484   529   576   625   676   729   784   841   900]\n",
      " [  961  1024  1089  1156  1225  1296  1369  1444  1521  1600]\n",
      " [ 1681  1764  1849  1936  2025  2116  2209  2304  2401  2500]\n",
      " [ 2601  2704  2809  2916  3025  3136  3249  3364  3481  3600]\n",
      " [ 3721  3844  3969  4096  4225  4356  4489  4624  4761  4900]\n",
      " [ 5041  5184  5329  5476  5625  5776  5929  6084  6241  6400]\n",
      " [ 6561  6724  6889  7056  7225  7396  7569  7744  7921  8100]\n",
      " [ 8281  8464  8649  8836  9025  9216  9409  9604  9801 10000]]\n",
      "\n",
      "NUMBERS DIVISIBLE BY 3:\n",
      " [   9   36   81  144  225  324  441  576  729  900 1089 1296 1521 1764\n",
      " 2025 2304 2601 2916 3249 3600 3969 4356 4761 5184 5625 6084 6561 7056\n",
      " 7569 8100 8649 9216 9801]\n"
     ]
    }
   ],
   "source": [
    "# IMPORT NUMPY\n",
    "import numpy as np\n",
    "\n",
    "# MAKE SQUARES FROM 1^2 TO 100^2\n",
    "A = np.arange(1, 101)**2\n",
    "A = A.reshape(10, 10)  # PUT INTO 10X10 SHAPE\n",
    "\n",
    "# PICK NUMBERS DIVISIBLE BY 3\n",
    "div_by_3 = A[A % 3 == 0]\n",
    "\n",
    "# SAVE THEM TO FILE\n",
    "np.save(\"div_by_3.npy\", div_by_3)\n",
    "\n",
    "# PRINT\n",
    "print(\"10X10 ARRAY OF SQUARES:\\n\", A)\n",
    "print(\"\\nNUMBERS DIVISIBLE BY 3:\\n\", div_by_3)\n"
   ]
  },
  {
   "cell_type": "code",
   "execution_count": 8,
   "id": "81068d6f-70b1-4d07-a30d-fa4c6b93363e",
   "metadata": {},
   "outputs": [
    {
     "name": "stdout",
     "output_type": "stream",
     "text": [
      "ORIGINAL ARRAY:\n",
      " [[0.32030286 0.96649417 0.66290591 0.11036511 0.97851298]\n",
      " [0.45641676 0.26797211 0.91872387 0.11726652 0.71789736]\n",
      " [0.93886474 0.52139303 0.11001642 0.52104288 0.93058141]\n",
      " [0.59932374 0.62086423 0.52185906 0.31796758 0.0937933 ]\n",
      " [0.17939228 0.26149734 0.15362756 0.84347606 0.94574078]]\n",
      "\n",
      "NORMALIZED ARRAY:\n",
      " [[-0.65174498  1.42546284  0.44956625 -1.32659826  1.4640978 ]\n",
      " [-0.2142014  -0.81996428  1.27190332 -1.30441343  0.62633847]\n",
      " [ 1.33664694 -0.00533257 -1.32771915 -0.00645814  1.31001985]\n",
      " [ 0.24517881  0.31442159 -0.00383452 -0.65925182 -1.37986902]\n",
      " [-1.10470769 -0.84077768 -1.18752941  1.03001623  1.35875026]]\n"
     ]
    }
   ],
   "source": [
    "# IMPORT NUMPY\n",
    "import numpy as np\n",
    "\n",
    "# MAKE A 5X5 ARRAY\n",
    "X = np.random.rand(5, 5)\n",
    "\n",
    "# FORMULA: (X - MEAN) / STD\n",
    "X_normalized = (X - X.mean()) / X.std()\n",
    "\n",
    "# SAVE IT TO FILE\n",
    "np.save(\"X_normalized.npy\", X_normalized)\n",
    "\n",
    "# PRINT\n",
    "print(\"ORIGINAL ARRAY:\\n\", X)\n",
    "print(\"\\nNORMALIZED ARRAY:\\n\", X_normalized)\n"
   ]
  },
  {
   "cell_type": "code",
   "execution_count": null,
   "id": "1c127944-e2fa-4a4c-a63e-03b991821edb",
   "metadata": {},
   "outputs": [],
   "source": []
  }
 ],
 "metadata": {
  "kernelspec": {
   "display_name": "Python 3 (ipykernel)",
   "language": "python",
   "name": "python3"
  },
  "language_info": {
   "codemirror_mode": {
    "name": "ipython",
    "version": 3
   },
   "file_extension": ".py",
   "mimetype": "text/x-python",
   "name": "python",
   "nbconvert_exporter": "python",
   "pygments_lexer": "ipython3",
   "version": "3.13.5"
  }
 },
 "nbformat": 4,
 "nbformat_minor": 5
}
